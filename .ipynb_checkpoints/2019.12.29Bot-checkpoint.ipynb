{
 "cells": [
  {
   "cell_type": "code",
   "execution_count": 1,
   "metadata": {},
   "outputs": [
    {
     "name": "stdout",
     "output_type": "stream",
     "text": [
      "Hi,what is your name?\n"
     ]
    },
    {
     "name": "stdin",
     "output_type": "stream",
     "text": [
      " lxm\n"
     ]
    },
    {
     "name": "stdout",
     "output_type": "stream",
     "text": [
      "Hello lxm!\n"
     ]
    }
   ],
   "source": [
    "print(\"Hi,what is your name?\")\n",
    "name = input()\n",
    "print(f\"Hello {name}!\")"
   ]
  },
  {
   "cell_type": "code",
   "execution_count": 4,
   "metadata": {},
   "outputs": [
    {
     "name": "stdout",
     "output_type": "stream",
     "text": [
      "How are you today?\n"
     ]
    },
    {
     "name": "stdin",
     "output_type": "stream",
     "text": [
      " good\n"
     ]
    },
    {
     "name": "stdout",
     "output_type": "stream",
     "text": [
      "I'm feeling good too\n"
     ]
    }
   ],
   "source": [
    "print(\"How are you today?\")\n",
    "feeling = input()\n",
    "if 'good' in feeling:\n",
    "    print(\"I'm feeling good too\")\n",
    "else:\n",
    "    print(\"Sorry to hear that\")"
   ]
  },
  {
   "cell_type": "code",
   "execution_count": 5,
   "metadata": {},
   "outputs": [
    {
     "name": "stdout",
     "output_type": "stream",
     "text": [
      "How are you today?\n"
     ]
    },
    {
     "name": "stdin",
     "output_type": "stream",
     "text": [
      " good\n"
     ]
    },
    {
     "name": "stdout",
     "output_type": "stream",
     "text": [
      "I'm feeling good too\n"
     ]
    }
   ],
   "source": [
    "print(\"How are you today?\")\n",
    "feeling = input()\n",
    "if 'good' in feeling.lower():\n",
    "    print(\"I'm feeling good too\")\n",
    "else:\n",
    "    print(\"Sorry to hear that\")\n",
    "    "
   ]
  },
  {
   "cell_type": "code",
   "execution_count": 9,
   "metadata": {},
   "outputs": [
    {
     "name": "stdout",
     "output_type": "stream",
     "text": [
      "What's your favorite color?\n"
     ]
    },
    {
     "name": "stdin",
     "output_type": "stream",
     "text": [
      " blue\n"
     ]
    },
    {
     "name": "stdout",
     "output_type": "stream",
     "text": [
      "You like blue? My favorite color is red\n"
     ]
    }
   ],
   "source": [
    "import random\n",
    "print(\"What's your favorite color?\")\n",
    "favcolor = input()\n",
    "colors = ['red','orange','yellow','green','blue','iindigo','purple']\n",
    "\n",
    "print(f\"You like {favcolor.lower()}? My favorite color is {random.choice(colors)}\")"
   ]
  },
  {
   "cell_type": "code",
   "execution_count": 12,
   "metadata": {},
   "outputs": [],
   "source": [
    "import time\n",
    "class Bot:\n",
    "    wait = 1\n",
    "    def __init__(self):\n",
    "        self.q = ' '\n",
    "        self.a = ' '\n",
    "        \n",
    "    def _think(self, s):\n",
    "    \n",
    "        return s\n",
    "    \n",
    "    def run(self):\n",
    "        print.sleep(Bot.wait)\n",
    "        print(self.q)\n",
    "        self.sleep(Bot.wiat)\n",
    "        print(self._think(self.a))\n",
    "        \n",
    "        "
   ]
  },
  {
   "cell_type": "code",
   "execution_count": null,
   "metadata": {},
   "outputs": [],
   "source": [
    "class Hello(Bot):\n",
    "    def __init__(self):\n",
    "        self.q = \"Hi,what is your nmae?\"\n",
    "        \n",
    "    def _think(self, s):\n",
    "        return f\"Hello {s}\"\n",
    "    "
   ]
  },
  {
   "cell_type": "code",
   "execution_count": 19,
   "metadata": {},
   "outputs": [
    {
     "ename": "SyntaxError",
     "evalue": "invalid syntax (<ipython-input-19-fc5434310865>, line 1)",
     "output_type": "error",
     "traceback": [
      "\u001b[1;36m  File \u001b[1;32m\"<ipython-input-19-fc5434310865>\"\u001b[1;36m, line \u001b[1;32m1\u001b[0m\n\u001b[1;33m    calss GreetingBot(Bot):\u001b[0m\n\u001b[1;37m                    ^\u001b[0m\n\u001b[1;31mSyntaxError\u001b[0m\u001b[1;31m:\u001b[0m invalid syntax\n"
     ]
    }
   ],
   "source": [
    "calss GreetingBot(Bot):\n",
    "    \n",
    "    def __init__(self):\n",
    "        self.q = \"How are you today?\"\n",
    "    def _think(self, s):\n",
    "        if 'good' in s.lower() or 'fine' in s.lower():\n",
    "            return \"I'm feeliing good too\"\n",
    "        \n",
    "        else:\n",
    "            return \"Sorry to hear that\""
   ]
  },
  {
   "cell_type": "code",
   "execution_count": 20,
   "metadata": {},
   "outputs": [],
   "source": [
    "import random\n",
    "\n",
    "class FavoriteColorBot(Bot):\n",
    "    def __init__(self):\n",
    "        self.q = \"What's your favorite color?\"\n",
    "        \n",
    "    def _think(self, s):\n",
    "        colors = ['red', 'orange', 'yellow', 'green','blue', 'indigo','purple']\n",
    "        return f\"You like {s,lower()}? My favorite color is {random,choice(colors)}\""
   ]
  },
  {
   "cell_type": "code",
   "execution_count": 24,
   "metadata": {},
   "outputs": [],
   "source": [
    "class  Garfield:\n",
    "    def __init__(self, wait = 1):\n",
    "        Bot.wait = wait\n",
    "        self.Bot = []\n",
    "        \n",
    "    def add(self, bot):\n",
    "        self,bots,append(bot)\n",
    "        \n",
    "    def _prompt(self, s):\n",
    "        print(s)\n",
    "        print()\n",
    "        \n",
    "    def run(sefl):\n",
    "        self._prompt(\"This is Garfield dialog system.Let's talk.\")\n",
    "        for bot in self.bots:\n",
    "            bot.run()"
   ]
  },
  {
   "cell_type": "code",
   "execution_count": 28,
   "metadata": {},
   "outputs": [
    {
     "ename": "NameError",
     "evalue": "name 'HelloBot' is not defined",
     "output_type": "error",
     "traceback": [
      "\u001b[1;31m---------------------------------------------------------------------------\u001b[0m",
      "\u001b[1;31mNameError\u001b[0m                                 Traceback (most recent call last)",
      "\u001b[1;32m<ipython-input-28-459e51040511>\u001b[0m in \u001b[0;36m<module>\u001b[1;34m\u001b[0m\n\u001b[0;32m      1\u001b[0m \u001b[0mgarfield\u001b[0m \u001b[1;33m=\u001b[0m \u001b[0mGarfield\u001b[0m\u001b[1;33m(\u001b[0m\u001b[1;36m1\u001b[0m\u001b[1;33m)\u001b[0m\u001b[1;33m\u001b[0m\u001b[1;33m\u001b[0m\u001b[0m\n\u001b[1;32m----> 2\u001b[1;33m \u001b[0mgarfield\u001b[0m\u001b[1;33m.\u001b[0m\u001b[0madd\u001b[0m\u001b[1;33m(\u001b[0m\u001b[0mHelloBot\u001b[0m\u001b[1;33m(\u001b[0m\u001b[1;33m)\u001b[0m\u001b[1;33m)\u001b[0m\u001b[1;33m\u001b[0m\u001b[1;33m\u001b[0m\u001b[0m\n\u001b[0m\u001b[0;32m      3\u001b[0m \u001b[0mgarfiele\u001b[0m\u001b[1;33m.\u001b[0m\u001b[0madd\u001b[0m\u001b[1;33m(\u001b[0m\u001b[0mGreentingBot\u001b[0m\u001b[1;33m(\u001b[0m\u001b[1;33m)\u001b[0m\u001b[1;33m)\u001b[0m\u001b[1;33m\u001b[0m\u001b[1;33m\u001b[0m\u001b[0m\n\u001b[0;32m      4\u001b[0m \u001b[0mGarfiele\u001b[0m\u001b[1;33m,\u001b[0m\u001b[0madd\u001b[0m\u001b[1;33m(\u001b[0m\u001b[0mFavoriteColorBot\u001b[0m\u001b[1;33m(\u001b[0m\u001b[1;33m)\u001b[0m\u001b[1;33m)\u001b[0m\u001b[1;33m\u001b[0m\u001b[1;33m\u001b[0m\u001b[0m\n\u001b[0;32m      5\u001b[0m \u001b[0mgarfield\u001b[0m\u001b[1;33m.\u001b[0m\u001b[0mrun\u001b[0m\u001b[1;33m(\u001b[0m\u001b[1;33m)\u001b[0m\u001b[1;33m\u001b[0m\u001b[1;33m\u001b[0m\u001b[0m\n",
      "\u001b[1;31mNameError\u001b[0m: name 'HelloBot' is not defined"
     ]
    }
   ],
   "source": [
    "garfield = Garfield(1)\n",
    "garfield.add(HelloBot())\n",
    "garfiele.add(GreentingBot())\n",
    "Garfiele,add(FavoriteColorBot())\n",
    "garfield.run()"
   ]
  },
  {
   "cell_type": "code",
   "execution_count": null,
   "metadata": {},
   "outputs": [],
   "source": []
  },
  {
   "cell_type": "code",
   "execution_count": null,
   "metadata": {},
   "outputs": [],
   "source": []
  },
  {
   "cell_type": "code",
   "execution_count": null,
   "metadata": {},
   "outputs": [],
   "source": []
  }
 ],
 "metadata": {
  "kernelspec": {
   "display_name": "Python 3",
   "language": "python",
   "name": "python3"
  },
  "language_info": {
   "codemirror_mode": {
    "name": "ipython",
    "version": 3
   },
   "file_extension": ".py",
   "mimetype": "text/x-python",
   "name": "python",
   "nbconvert_exporter": "python",
   "pygments_lexer": "ipython3",
   "version": "3.7.4"
  }
 },
 "nbformat": 4,
 "nbformat_minor": 4
}
