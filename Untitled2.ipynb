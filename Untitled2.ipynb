{
 "cells": [
  {
   "cell_type": "code",
   "execution_count": 1,
   "metadata": {},
   "outputs": [
    {
     "name": "stdout",
     "output_type": "stream",
     "text": [
      "Hi what is your name?\n"
     ]
    },
    {
     "name": "stdin",
     "output_type": "stream",
     "text": [
      " lxm\n"
     ]
    },
    {
     "name": "stdout",
     "output_type": "stream",
     "text": [
      "Hello lxm!\n"
     ]
    }
   ],
   "source": [
    "print(\"Hi what is your name?\")\n",
    "\n",
    "name = input()\n",
    "\n",
    "print(f\"Hello {name}!\")"
   ]
  },
  {
   "cell_type": "code",
   "execution_count": 2,
   "metadata": {},
   "outputs": [
    {
     "name": "stdout",
     "output_type": "stream",
     "text": [
      "How are you today?\n"
     ]
    },
    {
     "name": "stdin",
     "output_type": "stream",
     "text": [
      " good\n"
     ]
    },
    {
     "name": "stdout",
     "output_type": "stream",
     "text": [
      "I'm feeling good too\n"
     ]
    }
   ],
   "source": [
    "print(\"How are you today?\")\n",
    "feeling = input()\n",
    "if \"good\" in feeling:\n",
    "    print(\"I'm feeling good too\")\n",
    "    \n",
    "else:\n",
    "    print(\"Sorry to hear that\")"
   ]
  },
  {
   "cell_type": "code",
   "execution_count": 3,
   "metadata": {},
   "outputs": [
    {
     "name": "stdout",
     "output_type": "stream",
     "text": [
      "How are you today?\n"
     ]
    },
    {
     "name": "stdin",
     "output_type": "stream",
     "text": [
      " good\n"
     ]
    },
    {
     "name": "stdout",
     "output_type": "stream",
     "text": [
      "I'm feeling good too\n"
     ]
    }
   ],
   "source": [
    "print(\"How are you today?\")\n",
    "\n",
    "feeling = input()\n",
    "\n",
    "if 'good' in feeling.lower():\n",
    "    print(\"I'm feeling good too\")\n",
    "else:\n",
    "    print(\"Sorry to hear that\")"
   ]
  },
  {
   "cell_type": "code",
   "execution_count": null,
   "metadata": {},
   "outputs": [],
   "source": [
    "import random\n",
    "\n",
    "print(\"What's your favorite color?\")\n",
    "favcolor = input()\n",
    "colors = ['red', 'orange', 'yellow', 'green', 'blue', 'indigo', 'purple']\n",
    "print(f\"You like {favcolor.lower()}? My favorite color is {random.choice(colors)}\")\n"
   ]
  },
  {
   "cell_type": "code",
   "execution_count": null,
   "metadata": {},
   "outputs": [],
   "source": [
    "import random\n",
    "\n",
    "print(\"What's your favorite color?\")\n",
    "\n",
    "favcolor = input()\n",
    "colors = ['red', 'orange', 'yellow', 'green', 'blue', 'indigo', 'purple']\n",
    "print(f\"You like {favcolor.lower()}? My favorite color is {random.choice(colors)}\")"
   ]
  },
  {
   "cell_type": "code",
   "execution_count": null,
   "metadata": {},
   "outputs": [],
   "source": [
    "import time\n",
    "class Bot:\n",
    "    wait = 1\n",
    "    def __init__(self):\n",
    "        "
   ]
  },
  {
   "cell_type": "code",
   "execution_count": null,
   "metadata": {},
   "outputs": [],
   "source": []
  }
 ],
 "metadata": {
  "kernelspec": {
   "display_name": "Python 3",
   "language": "python",
   "name": "python3"
  },
  "language_info": {
   "codemirror_mode": {
    "name": "ipython",
    "version": 3
   },
   "file_extension": ".py",
   "mimetype": "text/x-python",
   "name": "python",
   "nbconvert_exporter": "python",
   "pygments_lexer": "ipython3",
   "version": "3.7.4"
  }
 },
 "nbformat": 4,
 "nbformat_minor": 4
}
